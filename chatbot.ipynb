{
  "nbformat": 4,
  "nbformat_minor": 0,
  "metadata": {
    "colab": {
      "provenance": []
    },
    "kernelspec": {
      "name": "python3",
      "display_name": "Python 3"
    },
    "language_info": {
      "name": "python"
    }
  },
  "cells": [
    {
      "cell_type": "code",
      "execution_count": 1,
      "metadata": {
        "colab": {
          "base_uri": "https://localhost:8080/"
        },
        "id": "qf18Zvj0uXgz",
        "outputId": "f65e96fe-ecc4-442c-8ab9-ab3b63790cd4"
      },
      "outputs": [
        {
          "output_type": "stream",
          "name": "stdout",
          "text": [
            "Welcome! How can I assist you today?\n",
            "You: hi\n",
            "Bot: Hello! How can I assist you today?\n",
            "You: how are you\n",
            "Bot: I'm just a bot, but thanks for asking!\n",
            "You: bye\n",
            "Bot: Goodbye! Have a great day.\n"
          ]
        }
      ],
      "source": [
        "def chatbot_response(user_input):\n",
        "    user_input = user_input.lower()\n",
        "\n",
        "    if \"hello\" in user_input or \"hi\" in user_input:\n",
        "        return \"Hello! How can I assist you today?\"\n",
        "\n",
        "    elif \"how are you\" in user_input:\n",
        "        return \"I'm just a bot, but thanks for asking!\"\n",
        "\n",
        "    elif \"bye\" in user_input:\n",
        "        return \"Goodbye! Have a great day.\"\n",
        "\n",
        "    elif \"thanks\" in user_input or \"thank you\" in user_input:\n",
        "        return \"You're welcome!\"\n",
        "    else:\n",
        "        return \"I'm sorry, I didn't understand that. Can you please rephrase or ask something else?\"\n",
        "\n",
        "# Main loop for chatting\n",
        "print(\"Welcome! How can I assist you today?\")\n",
        "while True:\n",
        "    user_input = input(\"You: \")\n",
        "    response = chatbot_response(user_input)\n",
        "    print(\"Bot:\", response)\n",
        "    if \"bye\" in user_input:\n",
        "        break\n"
      ]
    }
  ]
}